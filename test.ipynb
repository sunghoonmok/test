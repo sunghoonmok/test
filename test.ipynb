import matplotlib.pyplot as plt

x = [x for x in range(-20,20)]
y1 = [2*t for t in x]
y2 = [t**2 + 5 for t in x]
y3 = [-t**2 - 5 for t in x]

plt.plot(x,y1,'r--',label='f1')
plt.plot(x,y2,'b*:',label='f2')
plt.plot(x,y3,'g^-',label='f3')
plt.axis([-30, 30, -30, 30])
plt.xlabel('x label')
plt.ylabel('y label')
plt.legend()
plt.show()
